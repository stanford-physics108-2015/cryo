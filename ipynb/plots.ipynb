{
 "metadata": {
  "name": "",
  "signature": "sha256:2159b6b7866ef78dfe59cf0f9b403ef99ab7a9b8e0d42b38876df94615bf485f"
 },
 "nbformat": 3,
 "nbformat_minor": 0,
 "worksheets": [
  {
   "cells": [
    {
     "cell_type": "code",
     "collapsed": false,
     "input": [
      "import numpy as np\n",
      "import matplotlib.pyplot as plt\n",
      "from scipy.signal import argrelextrema"
     ],
     "language": "python",
     "metadata": {},
     "outputs": [],
     "prompt_number": 1
    },
    {
     "cell_type": "code",
     "collapsed": false,
     "input": [
      "%matplotlib inline"
     ],
     "language": "python",
     "metadata": {},
     "outputs": [],
     "prompt_number": 2
    },
    {
     "cell_type": "code",
     "collapsed": false,
     "input": [
      "datadir = \"/path/to/data\""
     ],
     "language": "python",
     "metadata": {},
     "outputs": []
    },
    {
     "cell_type": "code",
     "collapsed": false,
     "input": [
      "def quickplot(lockinfile, psfile):\n",
      "    # Read lockin data\n",
      "    run = []\n",
      "    with open(lockinfile) as run_file:\n",
      "        for line in run_file:\n",
      "            run.append(map(float,line.strip().lower().split(',')))\n",
      "    run = np.asarray(run)\n",
      "    \n",
      "    # Read power supply data\n",
      "    run_ps = []\n",
      "    with open(psfile) as run_ps_file:\n",
      "        for line in run_ps_file:\n",
      "            run_ps.append(map(float,line.strip().lower().split(',')))\n",
      "    run_ps = np.asarray(run_ps)\n",
      "    \n",
      "    # Plot them with a shared x axis\n",
      "    fig, axes = plt.subplots(2, 1, sharex=True)\n",
      "    fig.set_size_inches(10,10-10/3)\n",
      "    ax1, ax2 = fig.axes\n",
      "    ax1.plot(run_ps[:,0], run_ps[:,1])\n",
      "    ax2.plot(run[:,0], run[:,1])"
     ],
     "language": "python",
     "metadata": {},
     "outputs": [],
     "prompt_number": 15
    },
    {
     "cell_type": "code",
     "collapsed": false,
     "input": [
      "lockinfile = \"%s/lock-in-1426114577.log\"%datadir\n",
      "psfile = \"%s/power-supply-1426114790.log\"%datadir\n",
      "\n",
      "run_file = open(lockinfile)\n",
      "run = []\n",
      "for line in run_file:\n",
      "    run.append(map(float,line.strip().lower().split(',')))\n",
      "run = np.asarray(run)\n",
      "run = run[run[:,0]-1.426114e9>3400]\n",
      "run_ps_file = open(psfile)\n",
      "run_ps = []\n",
      "for line in run_ps_file:\n",
      "    run_ps.append(map(float,line.strip().lower().split(',')))\n",
      "run_ps = np.asarray(run_ps)\n",
      "run_ps = run_ps[run_ps[:,0]-1.426114e9>3400]\n",
      "\n",
      "fig, axes = plt.subplots(2, 1, sharex=True)\n",
      "fig.set_size_inches(14,14-14/3)\n",
      "ax1, ax2 = fig.axes\n",
      "ax1.plot(run_ps[:,0], run_ps[:,1])\n",
      "ax2.plot(run[:,0], run[:,1])\n",
      "\n",
      "offset = 1.426117e9\n",
      "tr = 6.8/0.3\n",
      "for rampdown in [665, 806, 914, 1038, 1186]:\n",
      "    plt.plot([rampdown+offset]*2, [0, 7], color='r', lw=2, ls=':')\n",
      "    plt.plot([rampdown+tr+offset]*2, [0, 7], color='r', lw=2, ls=':')\n",
      "    \n",
      "ax2.set_ylim([0.000021,0.00002155]);"
     ],
     "language": "python",
     "metadata": {},
     "outputs": []
    },
    {
     "cell_type": "heading",
     "level": 2,
     "metadata": {},
     "source": [
      "Plot all data"
     ]
    },
    {
     "cell_type": "code",
     "collapsed": false,
     "input": [
      "import os"
     ],
     "language": "python",
     "metadata": {},
     "outputs": [],
     "prompt_number": 4
    },
    {
     "cell_type": "code",
     "collapsed": false,
     "input": [
      "# Find lock-in and power supply files\n",
      "files = os.listdir(datadir)\n",
      "lockinfiles = []\n",
      "psfiles = []\n",
      "for f in files:\n",
      "    if f.startswith('lock-in'):\n",
      "        lockinfiles.append(f)\n",
      "    if f.startswith('power-supply'):\n",
      "        psfiles.append(f)"
     ],
     "language": "python",
     "metadata": {},
     "outputs": [],
     "prompt_number": 18
    },
    {
     "cell_type": "code",
     "collapsed": false,
     "input": [
      "# Load lock-in files\n",
      "lockindata = []\n",
      "for f in lockinfiles:\n",
      "    with open(\"%s/%s\"%(datadir,f)) as fh:\n",
      "        for line in fh:\n",
      "            lockindata.append(map(float,line.strip().lower().split(',')))\n",
      "lockindata = np.asarray(lockindata)"
     ],
     "language": "python",
     "metadata": {},
     "outputs": [],
     "prompt_number": 13
    },
    {
     "cell_type": "code",
     "collapsed": false,
     "input": [
      "# Load power supply files\n",
      "psdata = []\n",
      "for f in psfiles:\n",
      "    with open(\"%s/%s\"%(datadir,f)) as fh:\n",
      "        for line in fh:\n",
      "            psdata.append(map(float,line.strip().lower().split(',')))\n",
      "psdata = np.asarray(psdata)"
     ],
     "language": "python",
     "metadata": {},
     "outputs": [],
     "prompt_number": 19
    },
    {
     "cell_type": "code",
     "collapsed": false,
     "input": [
      "plt.plot(lockindata[:,0]-lockindata[0,0], lockindata[:,1])"
     ],
     "language": "python",
     "metadata": {},
     "outputs": []
    },
    {
     "cell_type": "code",
     "collapsed": false,
     "input": [
      "# Zoom in on the end\n",
      "\n",
      "offset = 1.42604e9\n",
      "fig, axes = plt.subplots(2,1,sharex=True)\n",
      "ax1, ax2 = axes\n",
      "ax1.set_xlim(offset+82000, offset+88000)\n",
      "ax1.plot(psdata[:,0], psdata[:,1])\n",
      "ax2.plot(lockindata[:,0], lockindata[:,1])\n",
      "ax2.set_ylim(20*10**-6, 26*10**-6)"
     ],
     "language": "python",
     "metadata": {},
     "outputs": []
    },
    {
     "cell_type": "code",
     "collapsed": false,
     "input": [
      "# Zoom in on one rampdown\n",
      "\n",
      "fig, axes = plt.subplots(2,1,sharex=True)\n",
      "ax1, ax2 = axes\n",
      "ax1.set_xlim(offset+87100, offset+87300)\n",
      "ax1.plot(psdata[:,0], psdata[:,1])\n",
      "ax2.plot(lockindata[:,0], lockindata[:,1])\n",
      "ax2.set_ylim(20*10**-6, 26*10**-6)"
     ],
     "language": "python",
     "metadata": {},
     "outputs": []
    },
    {
     "cell_type": "code",
     "collapsed": false,
     "input": [],
     "language": "python",
     "metadata": {},
     "outputs": []
    }
   ],
   "metadata": {}
  }
 ]
}