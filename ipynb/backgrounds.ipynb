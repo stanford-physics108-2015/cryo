{
 "metadata": {
  "name": "",
  "signature": "sha256:1c87e299d907d2e73b43e67f587f6ea470ec91e080eafbac95382f892f77a7c1"
 },
 "nbformat": 3,
 "nbformat_minor": 0,
 "worksheets": [
  {
   "cells": [
    {
     "cell_type": "code",
     "collapsed": false,
     "input": [
      "import numpy as np\n",
      "import matplotlib.pyplot as plt"
     ],
     "language": "python",
     "metadata": {},
     "outputs": []
    },
    {
     "cell_type": "code",
     "collapsed": false,
     "input": [
      "%matplotlib inline"
     ],
     "language": "python",
     "metadata": {},
     "outputs": []
    },
    {
     "cell_type": "code",
     "collapsed": false,
     "input": [
      "run_file = open(\"/Users/benl/Dropbox/Physics 108/data/20150305-bare-thermometer/lock-in-1425607041.log\")\n",
      "run = []\n",
      "for line in run_file:\n",
      "    run.append(map(float,line.strip().lower().split(',')))\n",
      "run = np.asarray(run)\n",
      "\n",
      "fig, axes = plt.subplots()\n",
      "ax, = fig.axes\n",
      "ax.plot(run[:,0]-run[0,0], run[:,1]*(10.0**6.0))\n",
      "ax.plot([20,20],[8.9,9.5],color='r',linestyle=':')\n",
      "ax.plot([41,41],[8.9,9.5],color='r',linestyle=':')\n",
      "ax.set_xlabel('Time ($s$)', fontsize=14)\n",
      "ax.set_ylabel('Thermometer voltage ($\\mu\\\\mathrm{V}$)', fontsize=14)"
     ],
     "language": "python",
     "metadata": {},
     "outputs": []
    },
    {
     "cell_type": "code",
     "collapsed": false,
     "input": [
      "bareroom_inds = np.where(run[:,0]-1.425607041e9<19)[0]\n",
      "bareroom = (run[bareroom_inds,0],run[bareroom_inds,1])\n",
      "plt.plot(*bareroom)"
     ],
     "language": "python",
     "metadata": {},
     "outputs": []
    },
    {
     "cell_type": "code",
     "collapsed": false,
     "input": [
      "bareroom = np.asarray(bareroom).T"
     ],
     "language": "python",
     "metadata": {},
     "outputs": []
    },
    {
     "cell_type": "code",
     "collapsed": false,
     "input": [
      "np.std(roomtemp[:,1])"
     ],
     "language": "python",
     "metadata": {},
     "outputs": []
    },
    {
     "cell_type": "code",
     "collapsed": false,
     "input": [
      "nitrogen_inds = np.where(run[:,0]-1.425607041e9>41)[0]\n",
      "nitrogen = (run[nitrogen_inds,0],run[nitrogen_inds,1])\n",
      "plt.plot(*nitrogen)"
     ],
     "language": "python",
     "metadata": {},
     "outputs": []
    },
    {
     "cell_type": "code",
     "collapsed": false,
     "input": [
      "np.mean(nitrogen[1])/np.mean(bareroom[:,1])"
     ],
     "language": "python",
     "metadata": {},
     "outputs": []
    },
    {
     "cell_type": "code",
     "collapsed": false,
     "input": [
      "np.mean(bareroom[:,1])"
     ],
     "language": "python",
     "metadata": {},
     "outputs": []
    },
    {
     "cell_type": "code",
     "collapsed": false,
     "input": [
      "run_file = open(\"/Users/benl/Dropbox/Physics 108/data/long_background.log\")\n",
      "run = []\n",
      "for line in run_file:\n",
      "    run.append(map(float,line.strip().lower().split(',')))\n",
      "run = np.asarray(run)\n",
      "\n",
      "run = run[(run[:,1]<13.5*10.0**-6.0)&(run[:,1]>12.9*10**-6)]\n",
      "\n",
      "fig, axes = plt.subplots()\n",
      "fig.set_size_inches(14,3)\n",
      "ax1, = fig.axes\n",
      "#ax2.plot(run[:,0], run[:,1])\n",
      "#ax2.set_ylim([0.000008,0.000010])\n",
      "probe_std = np.std(run[:,1])\n",
      "probe_mean = np.mean(run[:,1])\n",
      "ax1.plot(run[:,0], run[:,1], alpha=0.2)\n",
      "ax1.plot(run[:,0], [probe_mean]*len(run), linestyle=':', color='r')\n",
      "ax1.fill_between(run[:,0], [probe_mean-probe_std]*len(run), [probe_mean+probe_std]*len(run), color='r', alpha=0.2)"
     ],
     "language": "python",
     "metadata": {},
     "outputs": []
    },
    {
     "cell_type": "code",
     "collapsed": false,
     "input": [
      "np.mean(run[:,1])"
     ],
     "language": "python",
     "metadata": {},
     "outputs": []
    },
    {
     "cell_type": "code",
     "collapsed": false,
     "input": [
      "1.322506e-05*1.06"
     ],
     "language": "python",
     "metadata": {},
     "outputs": []
    },
    {
     "cell_type": "code",
     "collapsed": false,
     "input": [
      "fig, axes = plt.subplots()\n",
      "fig.set_size_inches(14,5)\n",
      "ax1, = fig.axes\n",
      "#ax2.plot(run[:,0], run[:,1])\n",
      "#ax2.set_ylim([0.000008,0.000010])\n",
      "probe_std = np.std(run[:,1])\n",
      "probe_mean = np.mean(run[:,1])\n",
      "ax1.plot(run[:,0], run[:,1], alpha=0.2)\n",
      "ax1.plot([run[-1,0],run[-1,0]+(run[-1,0]-run[0,0])], [1.402e-5]*2, alpha=0.2, linestyle=':', color='r')\n",
      "ax1.plot(run[:,0], [probe_mean]*len(run), linestyle=':', color='r')\n",
      "ax1.fill_between(run[:,0], [probe_mean-probe_std]*len(run), [probe_mean+probe_std]*len(run), color='r', alpha=0.2)\n",
      "ax1.fill_between([run[-1,0],run[-1,0]+(run[-1,0]-run[0,0])], [1.402e-5-probe_std]*2, [1.402e-5+probe_std]*2, color='r', alpha=0.2)"
     ],
     "language": "python",
     "metadata": {},
     "outputs": []
    },
    {
     "cell_type": "code",
     "collapsed": false,
     "input": [
      "np.std(run[:,1])"
     ],
     "language": "python",
     "metadata": {},
     "outputs": []
    },
    {
     "cell_type": "code",
     "collapsed": false,
     "input": [
      "plt.hist(run[:,1]-np.mean(run[:,1]),bins=20);"
     ],
     "language": "python",
     "metadata": {},
     "outputs": []
    }
   ],
   "metadata": {}
  }
 ]
}